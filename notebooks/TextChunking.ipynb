{
 "cells": [
  {
   "cell_type": "markdown",
   "id": "c16a47da",
   "metadata": {},
   "source": [
    "# 日本語データセットをチャンクに分割"
   ]
  },
  {
   "cell_type": "code",
   "execution_count": null,
   "id": "321fe845",
   "metadata": {},
   "outputs": [],
   "source": [
    "#!pip install tiktoken langchain"
   ]
  },
  {
   "cell_type": "code",
   "execution_count": null,
   "id": "87496f9b",
   "metadata": {},
   "outputs": [],
   "source": [
    "import tiktoken\n",
    "from langchain.text_splitter import RecursiveCharacterTextSplitter"
   ]
  },
  {
   "cell_type": "markdown",
   "id": "782f8a2c",
   "metadata": {},
   "source": [
    "## 1. 単一ファイルの動作確認"
   ]
  },
  {
   "cell_type": "code",
   "execution_count": null,
   "id": "0a327e7b",
   "metadata": {},
   "outputs": [],
   "source": [
    "f = open('./data/源頼朝.txt', 'r', encoding='UTF-8')\n",
    "\n",
    "data = f.read()\n",
    "print(data)\n",
    "\n",
    "f.close()"
   ]
  },
  {
   "cell_type": "markdown",
   "id": "9fe30d3e",
   "metadata": {},
   "source": [
    "## ドキュメントのトークン数を計測\n",
    "OpenAI モデルのトークン数を正確に数えるためには、[tiktoken](https://github.com/openai/tiktoken) ライブラリを利用します。"
   ]
  },
  {
   "cell_type": "code",
   "execution_count": null,
   "id": "637dba39",
   "metadata": {},
   "outputs": [],
   "source": [
    "enc = tiktoken.get_encoding(\"gpt2\")\n",
    "print(len(enc.encode(data)))"
   ]
  },
  {
   "cell_type": "markdown",
   "id": "6b401d36",
   "metadata": {},
   "source": [
    "## テキストをチャンクに分割\n",
    "通常 1 つのドキュメントに含まれるトークン数は 1 度のコンテキストに指定できる最大トークン数をゆうに超えます。今回はドキュメントの文を指定したトークン数以下のチャンクに分割します。\n",
    "\n",
    "- テキストの分割方法<br>\n",
    "RecursiveCharacterTextSplitter はチャンクが十分に小さくなるまで、順番に分割します。\n",
    "- チャンクサイズの測定方法<br>\n",
    "tiktoken ライブラリのトークナイザーを使用してトークン数を正確に測定します。"
   ]
  },
  {
   "cell_type": "code",
   "execution_count": null,
   "id": "0c11ad4b",
   "metadata": {},
   "outputs": [],
   "source": [
    "text_splitter = RecursiveCharacterTextSplitter.from_tiktoken_encoder(\n",
    "    encoding_name='gpt2',\n",
    "    chunk_size=500, \n",
    "    chunk_overlap=50\n",
    ")"
   ]
  },
  {
   "cell_type": "code",
   "execution_count": null,
   "id": "f1d22517",
   "metadata": {},
   "outputs": [],
   "source": [
    "chunk = text_splitter.split_text(data)\n",
    "chunk"
   ]
  },
  {
   "cell_type": "code",
   "execution_count": null,
   "id": "bd3dff18",
   "metadata": {},
   "outputs": [],
   "source": [
    "#チャンク数\n",
    "len(chunk)"
   ]
  },
  {
   "cell_type": "code",
   "execution_count": null,
   "id": "31713585",
   "metadata": {
    "scrolled": true
   },
   "outputs": [],
   "source": [
    "#チャンク[0]の中身\n",
    "chunk[0]"
   ]
  },
  {
   "cell_type": "code",
   "execution_count": null,
   "id": "5c7b255f",
   "metadata": {},
   "outputs": [],
   "source": [
    "#トークン数\n",
    "print(len(enc.encode(chunk[0])))"
   ]
  },
  {
   "cell_type": "code",
   "execution_count": null,
   "id": "84c74419",
   "metadata": {
    "scrolled": true
   },
   "outputs": [],
   "source": [
    "#チャンクごとのトークン数確認\n",
    "tokencounter = 0\n",
    "for i, text in enumerate(chunk):\n",
    "    print(i,len(enc.encode(text)))\n",
    "    tokencounter = tokencounter + len(enc.encode(text))\n",
    "\n",
    "print(tokencounter)"
   ]
  },
  {
   "cell_type": "markdown",
   "id": "fc2a22f5",
   "metadata": {},
   "source": [
    "## 2. ファイル一括処理\n",
    "ドキュメントをチャンクに分割する方法を確認したら、実際に複数のデータセットを一括処理でチャンクごとのテキストファイルに分割します。"
   ]
  },
  {
   "cell_type": "code",
   "execution_count": null,
   "id": "382a62c7",
   "metadata": {},
   "outputs": [],
   "source": [
    "import os\n",
    "\n",
    "enc = tiktoken.get_encoding(\"gpt2\")\n",
    "text_splitter = RecursiveCharacterTextSplitter.from_tiktoken_encoder(\n",
    "    encoding_name='gpt2',\n",
    "    chunk_size=500, \n",
    "    chunk_overlap=50\n",
    ")\n",
    "\n",
    "#テキストファイルを読み込んで、指定のトークン数のチャンクファイルに分割します。\n",
    "def splitChunkFile(filepath):\n",
    "    f = open(filepath, 'r', encoding='UTF-8')\n",
    "    data = f.read()\n",
    "    chunk = text_splitter.split_text(data)\n",
    "\n",
    "    #chunk単位でループ\n",
    "    for i, chunkedtext in enumerate(chunk):\n",
    "        \n",
    "        dirname = os.path.dirname(filepath)\n",
    "        basename = os.path.splitext(os.path.basename(filepath))[0]\n",
    "        outputfilepath = dirname + \"/output/\" + basename + \"-\" + str(i) + \".txt\"\n",
    "        \n",
    "        print(i, len(enc.encode(chunkedtext)), outputfilepath)\n",
    "        with open(outputfilepath, 'w', encoding='UTF-8') as fo:\n",
    "            fo.write(chunkedtext)\n",
    "\n",
    "        fo.close()\n",
    "    f.close()\n",
    "   \n",
    "    return"
   ]
  },
  {
   "cell_type": "code",
   "execution_count": null,
   "id": "0305e681",
   "metadata": {
    "scrolled": true
   },
   "outputs": [],
   "source": [
    "import glob\n",
    "for p in glob.glob('./data/*.txt'):\n",
    "    splitChunkFile(p)"
   ]
  },
  {
   "cell_type": "code",
   "execution_count": null,
   "id": "2beb3eac",
   "metadata": {},
   "outputs": [],
   "source": []
  }
 ],
 "metadata": {
  "kernelspec": {
   "display_name": "Python 3 (ipykernel)",
   "language": "python",
   "name": "python3"
  },
  "language_info": {
   "codemirror_mode": {
    "name": "ipython",
    "version": 3
   },
   "file_extension": ".py",
   "mimetype": "text/x-python",
   "name": "python",
   "nbconvert_exporter": "python",
   "pygments_lexer": "ipython3",
   "version": "3.10.9"
  }
 },
 "nbformat": 4,
 "nbformat_minor": 5
}
